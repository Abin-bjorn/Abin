{
  "nbformat": 4,
  "nbformat_minor": 0,
  "metadata": {
    "colab": {
      "provenance": []
    },
    "kernelspec": {
      "name": "python3",
      "display_name": "Python 3"
    },
    "language_info": {
      "name": "python"
    }
  },
  "cells": [
    {
      "cell_type": "code",
      "execution_count": null,
      "metadata": {
        "colab": {
          "base_uri": "https://localhost:8080/"
        },
        "id": "vroEGiCEhEgp",
        "outputId": "3af806cb-22e0-4703-e1ba-f31ea7fd4148"
      },
      "outputs": [
        {
          "output_type": "stream",
          "name": "stdout",
          "text": [
            "Mounted at /content/drive\n"
          ]
        }
      ],
      "source": [
        "from google.colab import drive\n",
        "drive.mount('/content/drive')"
      ]
    },
    {
      "cell_type": "markdown",
      "source": [
        "# **Importing Libraries**"
      ],
      "metadata": {
        "id": "athsiJvWaqv6"
      }
    },
    {
      "cell_type": "code",
      "source": [
        "import numpy as np\n",
        "import math\n",
        "import nltk\n",
        "nltk.download('stopwords')\n",
        "nltk.download('punkt')\n",
        "nltk.download('wordnet')\n",
        "import os\n",
        "import string\n",
        "import logging\n",
        "import re\n",
        "from collections import defaultdict, Counter\n",
        "from nltk.corpus import stopwords\n",
        "from nltk.tokenize import word_tokenize\n",
        "from nltk.stem import WordNetLemmatizer"
      ],
      "metadata": {
        "colab": {
          "base_uri": "https://localhost:8080/"
        },
        "id": "P4qUKrCzi3Fl",
        "outputId": "2f409a79-ce3e-4a9e-de7d-3a7805b281fe"
      },
      "execution_count": 41,
      "outputs": [
        {
          "output_type": "stream",
          "name": "stderr",
          "text": [
            "[nltk_data] Downloading package stopwords to /root/nltk_data...\n",
            "[nltk_data]   Package stopwords is already up-to-date!\n",
            "[nltk_data] Downloading package punkt to /root/nltk_data...\n",
            "[nltk_data]   Package punkt is already up-to-date!\n",
            "[nltk_data] Downloading package wordnet to /root/nltk_data...\n",
            "[nltk_data]   Package wordnet is already up-to-date!\n"
          ]
        }
      ]
    },
    {
      "cell_type": "markdown",
      "source": [
        "# Uploading files and load into"
      ],
      "metadata": {
        "id": "GTsfa2ZfanZb"
      }
    },
    {
      "cell_type": "code",
      "source": [
        "# Read documents from uploaded files\n",
        "file_paths = [\"/content/drive/MyDrive/FILES/Class_wk3\"]\n",
        "\n",
        "# Load documents into a list\n",
        "docs = []\n",
        "for file_path in file_paths:\n",
        "    if os.path.isdir(file_path):\n",
        "        for filename in os.listdir(file_path):\n",
        "            filepath = os.path.join(file_path, filename)\n",
        "            # Check if it's a file and then read\n",
        "            if os.path.isfile(filepath):\n",
        "                with open(filepath, 'r', encoding='utf-8') as file:\n",
        "                    docs.append(file.read())\n",
        "    # If it's not a directory, try reading it as a file\n",
        "    elif os.path.isfile(file_path):\n",
        "        with open(file_path, 'r', encoding='utf-8') as file:\n",
        "            docs.append(file.read())"
      ],
      "metadata": {
        "id": "E05OeEOFiT8z"
      },
      "execution_count": 42,
      "outputs": []
    },
    {
      "cell_type": "markdown",
      "source": [
        "# **Define Queries**"
      ],
      "metadata": {
        "id": "aLD7C08hf83v"
      }
    },
    {
      "cell_type": "code",
      "source": [
        "# Define the queries manually (for testing purpose)\n",
        "queries = [\n",
        "    \"Phone\",\n",
        "    \"software version\",\n",
        "]"
      ],
      "metadata": {
        "id": "HDvGPHHkf8Wy"
      },
      "execution_count": 43,
      "outputs": []
    },
    {
      "cell_type": "markdown",
      "source": [
        "# **Text** **preprocessing**"
      ],
      "metadata": {
        "id": "DAv_ZrjBbQ35"
      }
    },
    {
      "cell_type": "code",
      "source": [
        "# Function to lowercase and tokenize text\n",
        "def tokenize(text):\n",
        "    return text.lower().split()\n",
        "\n",
        " # Convert to lowercase\n",
        "    text = text.lower()\n",
        "    # Remove special characters and punctuation\n",
        "    text = re.sub(r\"[^a-zA-Z0-9\\s]\", \"\", text)\n",
        "    # Remove digit\n",
        "    text = re.sub(r\"\\d+\", \"\", text)"
      ],
      "metadata": {
        "id": "UMlRuJPgg6Gy"
      },
      "execution_count": 44,
      "outputs": []
    },
    {
      "cell_type": "code",
      "source": [
        "# Tokenize documents and queries\n",
        "tokenized_docs = [tokenize(doc) for doc in docs]\n",
        "tokenized_queries = [tokenize(query) for query in queries]\n",
        "\n",
        "# Create a vocabulary from the tokenized documents\n",
        "vocab = list(set(term for doc in tokenized_docs for term in doc))\n",
        "\n",
        "\n",
        "print(tokenized_docs)\n",
        "print(tokenized_queries)\n",
        "print(vocab)"
      ],
      "metadata": {
        "colab": {
          "base_uri": "https://localhost:8080/"
        },
        "id": "R50Wm6I-g96s",
        "outputId": "6e33e3df-f57f-4295-b059-76e62bfba62f"
      },
      "execution_count": 45,
      "outputs": [
        {
          "output_type": "stream",
          "name": "stdout",
          "text": [
            "[['1.', 'customer', 'service', 'complaint', '-', 'airline', 'delay', '@airlinesupport', 'i’ve', 'been', 'waiting', 'over', 'three', 'hours', 'at', 'the', 'gate', 'with', 'no', 'updates', 'on', 'my', 'flight', 'status.', 'the', 'initial', 'delay', 'was', 'supposed', 'to', 'be', 'just', '45', 'minutes,', 'but', 'now', 'we’re', 'way', 'past', 'that,', 'and', 'there', 'has', 'been', 'no', 'communication', 'from', 'your', 'staff.', 'i', 'understand', 'that', 'delays', 'happen,', 'but', 'the', 'lack', 'of', 'information', 'is', 'unacceptable.', 'when', 'can', 'we', 'expect', 'some', 'updates?', '@customersupport', 'your', 'experience', 'matters', 'to', 'us.', 'we’re', 'sorry', 'for', 'the', 'delay', 'and', 'the', 'inconvenience', 'this', 'has', 'caused.', 'please', 'send', 'us', 'a', 'dm', 'with', 'your', 'booking', 'reference', 'and', 'additional', 'details', 'about', 'your', 'flight,', 'and', 'we’ll', 'look', 'into', 'it', 'right', 'away.', 'we’ll', 'make', 'sure', 'to', 'keep', 'you', 'updated.', '^rr', '@passenger101', 'i’ve', 'been', 'a', 'loyal', 'customer', 'for', 'years,', 'but', 'this', 'level', 'of', 'service', 'makes', 'me', 'rethink', 'my', 'choices.', 'it’s', 'one', 'thing', 'to', 'have', 'delays,', 'but', 'being', 'left', 'in', 'the', 'dark', 'is', 'what', 'really', 'frustrates', 'me.', 'you', 'need', 'to', 'do', 'better', 'with', 'your', 'communication.', '@customersupport', 'live', 'chat', 'is', 'available', 'to', 'assist', 'with', 'any', 'issues', 'you’re', 'experiencing', 'at', 'https://t.co/12345.', 'alternatively,', 'you', 'can', 'call', 'us', 'at', '0800-123-4567.', 'we’ll', 'do', 'our', 'best', 'to', 'assist', 'you', 'as', 'soon', 'as', 'possible.', 'we', 'appreciate', 'your', 'patience', 'and', 'understanding.', '@passenger101', 'i’ve', 'already', 'tried', 'live', 'chat,', 'but', 'no', 'one', 'is', 'available.', 'the', 'phone', 'line', 'also', 'seems', 'to', 'be', 'constantly', 'busy.', 'i', 'just', 'want', 'some', 'clear', 'information', 'on', 'when', 'we', 'can', 'expect', 'to', 'board,', 'or', 'if', 'we', 'should', 'make', 'alternative', 'arrangements.', 'please', 'help.'], ['2.', 'tech', 'support', 'inquiry', '-', 'phone', 'software', 'update', 'issues', '@techsupport', 'after', 'updating', 'my', 'phone', 'to', 'the', 'latest', 'software', 'version,', 'i’ve', 'been', 'experiencing', 'a', 'host', 'of', 'problems.', 'apps', 'are', 'crashing', 'frequently,', 'the', 'battery', 'life', 'has', 'taken', 'a', 'significant', 'hit,', 'and', 'the', 'overall', 'performance', 'of', 'my', 'device', 'has', 'become', 'sluggish.', 'i', 'used', 'to', 'be', 'able', 'to', 'go', 'an', 'entire', 'day', 'without', 'charging,', 'but', 'now', 'my', 'phone', 'barely', 'makes', 'it', 'through', 'half', 'a', 'day.', 'is', 'there', 'any', 'solution', 'to', 'these', 'issues,', 'or', 'am', 'i', 'stuck', 'with', 'this', 'until', 'the', 'next', 'update?', '@supportteam', 'we’re', 'sorry', 'to', 'hear', 'about', 'the', 'issues', 'you’re', 'facing', 'after', 'the', 'update.', 'we’re', 'here', 'to', 'help.', 'please', 'dm', 'us', 'with', 'your', 'phone', 'model', 'and', 'the', 'current', 'software', 'version,', 'and', 'we’ll', 'work', 'with', 'you', 'to', 'find', 'a', 'solution.', 'we’re', 'committed', 'to', 'ensuring', 'that', 'your', 'device', 'works', 'as', 'smoothly', 'as', 'possible.', '^rr', '@username2024', 'i’m', 'seriously', 'regretting', 'updating', 'my', 'phone.', 'i', 'thought', 'software', 'updates', 'were', 'supposed', 'to', 'improve', 'performance,', 'not', 'make', 'things', 'worse.', 'this', 'feels', 'more', 'like', 'a', 'downgrade', 'than', 'an', 'upgrade.', 'i', 'hope', 'there’s', 'a', 'fix', 'soon.', '@supportteam', 'have', 'you', 'tried', 'restarting', 'the', 'device,', 'clearing', 'your', 'app', 'cache,', 'or', 'performing', 'a', 'factory', 'reset?', 'these', 'steps', 'might', 'help', 'resolve', 'the', 'performance', 'issues.', 'please', 'dm', 'us', 'if', 'you', 'need', 'further', 'assistance,', 'and', 'we’ll', 'guide', 'you', 'through', 'the', 'process.', 'your', 'satisfaction', 'is', 'important', 'to', 'us.', '@username2024', 'i’ve', 'already', 'tried', 'restarting', 'the', 'phone', 'and', 'clearing', 'the', 'cache,', 'but', 'the', 'problems', 'persist.', 'i’m', 'hesitant', 'to', 'do', 'a', 'factory', 'reset', 'because', 'i', 'don’t', 'want', 'to', 'lose', 'any', 'of', 'my', 'data.', 'is', 'there', 'anything', 'else', 'i', 'can', 'do?'], ['3.', 'subscription', 'service', 'complaint', '-', 'streaming', 'issues', '@streamingsupport', 'my', 'streaming', 'service', 'has', 'been', 'constantly', 'buffering,', 'even', 'though', 'my', 'internet', 'connection', 'is', 'stable', 'and', 'strong.', 'this', 'happens', 'almost', 'every', 'time', 'i', 'try', 'to', 'watch', 'something,', 'and', 'it’s', 'really', 'starting', 'to', 'ruin', 'the', 'experience.', 'i’ve', 'tried', 'rebooting', 'my', 'router,', 'switching', 'between', 'different', 'devices,', 'and', 'even', 'reinstalling', 'the', 'app,', 'but', 'nothing', 'seems', 'to', 'fix', 'the', 'issue.', 'can', 'you', 'help', 'me', 'resolve', 'this?', '@supporthelp', 'we’re', 'truly', 'sorry', 'to', 'hear', 'about', 'the', 'inconvenience', 'you’ve', 'been', 'experiencing', 'with', 'the', 'buffering', 'issues.', 'please', 'dm', 'us', 'your', 'device', 'and', 'app', 'version', 'details,', 'and', 'we’ll', 'investigate', 'the', 'problem', 'further.', 'we’re', 'committed', 'to', 'ensuring', 'you', 'have', 'a', 'seamless', 'streaming', 'experience,', 'and', 'we’ll', 'do', 'our', 'best', 'to', 'fix', 'this', 'as', 'soon', 'as', 'possible.', '^rr', '@user2023', 'i’ve', 'tried', 'everything', 'i', 'can', 'think', 'of,', 'and', 'it’s', 'incredibly', 'frustrating', 'when', 'the', 'service', 'i’m', 'paying', 'for', 'doesn’t', 'work', 'properly.', 'it’s', 'making', 'me', 'question', 'whether', 'it’s', 'worth', 'renewing', 'my', 'subscription.', 'i', 'just', 'want', 'to', 'be', 'able', 'to', 'watch', 'my', 'shows', 'without', 'constant', 'interruptions.', '@supporthelp', 'we', 'completely', 'understand', 'your', 'frustration.', 'could', 'you', 'try', 'streaming', 'from', 'another', 'device', 'to', 'see', 'if', 'the', 'problem', 'persists?', 'we’re', 'here', 'to', 'assist', 'you', 'every', 'step', 'of', 'the', 'way.', 'please', 'dm', 'us', 'for', 'further', 'troubleshooting.', 'we', 'value', 'your', 'subscription', 'and', 'want', 'to', 'make', 'sure', 'your', 'experience', 'improves.', '@user2023', 'i’ve', 'already', 'tried', 'using', 'different', 'devices,', 'but', 'the', 'issue', 'is', 'still', 'there.', 'i', 'just', 'don’t', 'understand', 'why', 'this', 'is', 'happening', 'when', 'my', 'internet', 'connection', 'is', 'fine.'], ['4.', 'online', 'shopping', '-', 'payment', 'gateway', 'error', '@onlinestore', 'i’m', 'trying', 'to', 'check', 'out,', 'but', 'your', 'payment', 'gateway', 'keeps', 'giving', 'me', 'an', 'error', 'message.', 'i’ve', 'tried', 'multiple', 'cards', 'from', 'different', 'banks,', 'but', 'none', 'of', 'them', 'seem', 'to', 'work.', 'this', 'has', 'been', 'happening', 'for', 'the', 'past', 'few', 'hours,', 'and', 'i’m', 'worried', 'that', 'the', 'items', 'i’ve', 'put', 'in', 'my', 'cart', 'will', 'sell', 'out', 'before', 'i', 'can', 'complete', 'the', 'purchase.', 'can', 'you', 'help', 'me', 'resolve', 'this', 'issue', 'before', 'it’s', 'too', 'late?', '@supportcenter', 'we', 'apologize', 'for', 'the', 'trouble', 'you’re', 'experiencing', 'with', 'our', 'payment', 'gateway.', 'we', 'know', 'how', 'important', 'your', 'purchase', 'is,', 'and', 'we’d', 'like', 'to', 'help', 'you', 'complete', 'it.', 'please', 'dm', 'us', 'your', 'order', 'details,', 'along', 'with', 'any', 'error', 'messages', 'you’ve', 'encountered,', 'and', 'we’ll', 'assist', 'you', 'in', 'completing', 'your', 'purchase.', 'your', 'business', 'means', 'a', 'lot', 'to', 'us,', 'and', 'we', 'want', 'to', 'ensure', 'that', 'you', 'have', 'a', 'smooth', 'shopping', 'experience.', '^rr', '@shopper2024', 'this', 'is', 'incredibly', 'frustrating.', 'i’ve', 'been', 'trying', 'to', 'make', 'this', 'purchase', 'all', 'day,', 'and', 'it', 'feels', 'like', 'your', 'website', 'doesn’t', 'want', 'me', 'to', 'buy', 'anything.', 'i’ve', 'never', 'had', 'this', 'much', 'trouble', 'with', 'an', 'online', 'store', 'before.', '@supportcenter', 'we', 'understand', 'your', 'frustration.', 'have', 'you', 'tried', 'clearing', 'your', 'browser’s', 'cache', 'or', 'using', 'a', 'different', 'payment', 'method,', 'such', 'as', 'paypal', 'or', 'another', 'form', 'of', 'digital', 'payment?', 'if', 'these', 'steps', 'don’t', 'work,', 'please', 'dm', 'us,', 'and', 'we’ll', 'make', 'sure', 'to', 'assist', 'you', 'further.', 'we', 'appreciate', 'your', 'patience', 'and', 'are', 'committed', 'to', 'resolving', 'this', 'for', 'you', 'as', 'soon', 'as', 'possible.', '@shopper2024', 'i’ve', 'already', 'cleared', 'my', 'cache', 'and', 'tried', 'different', 'payment', 'methods,', 'but', 'nothing', 'seems', 'to', 'be', 'working.', 'please', 'help', 'me', 'complete', 'my', 'purchase', 'before', 'my', 'items', 'sell', 'out.'], ['5.', 'internet', 'service', 'complaint', '-', 'unstable', 'connection', '@internetprovider', 'my', 'internet', 'connection', 'has', 'been', 'dropping', 'every', '10', 'minutes', 'for', 'the', 'past', 'few', 'days,', 'making', 'it', 'impossible', 'to', 'get', 'any', 'work', 'done.', 'i’ve', 'already', 'rebooted', 'my', 'router', 'multiple', 'times,', 'reset', 'my', 'modem,', 'and', 'even', 'called', 'customer', 'service,', 'but', 'the', 'problem', 'still', 'hasn’t', 'been', 'resolved.', 'i', 'need', 'a', 'stable', 'connection,', 'especially', 'since', 'i’m', 'working', 'from', 'home.', 'can', 'you', 'please', 'do', 'something', 'to', 'fix', 'this', 'issue?', '@supportteam', 'we’re', 'sorry', 'to', 'hear', 'about', 'the', 'ongoing', 'issues', 'with', 'your', 'internet', 'connection.', 'we', 'know', 'how', 'crucial', 'a', 'stable', 'connection', 'is,', 'especially', 'when', 'working', 'from', 'home.', 'please', 'dm', 'us', 'your', 'account', 'details', 'and', 'location,', 'and', 'we’ll', 'run', 'some', 'diagnostics', 'on', 'your', 'connection', 'to', 'see', 'what’s', 'going', 'on.', 'we’re', 'committed', 'to', 'resolving', 'this', 'for', 'you', 'as', 'quickly', 'as', 'possible.', '^rr', '@frustrateduser123', 'this', 'has', 'been', 'happening', 'for', 'weeks,', 'and', 'i’m', 'getting', 'zero', 'help', 'from', 'your', 'customer', 'service', 'team.', 'every', 'time', 'i', 'call,', 'they', 'just', 'tell', 'me', 'to', 'reboot', 'my', 'router,', 'which', 'i’ve', 'done', 'countless', 'times', 'already.', 'i’m', 'at', 'my', 'wit’s', 'end', 'with', 'this.', '@supportteam', 'we', 'understand', 'how', 'frustrating', 'this', 'must', 'be', 'for', 'you.', 'please', 'dm', 'us', 'your', 'ticket', 'number,', 'and', 'we’ll', 'escalate', 'the', 'issue', 'to', 'our', 'technical', 'team', 'for', 'further', 'investigation.', 'we’ll', 'do', 'everything', 'we', 'can', 'to', 'ensure', 'your', 'connection', 'gets', 'back', 'to', 'normal', 'as', 'soon', 'as', 'possible.', 'your', 'satisfaction', 'is', 'our', 'priority.', '@frustrateduser123', 'i', 'really', 'hope', 'you', 'can', 'fix', 'this', 'soon.', 'i', 'can’t', 'afford', 'to', 'keep', 'having', 'these', 'interruptions', 'while', 'i’m', 'trying', 'to', 'work.'], ['food', 'delivery', 'app', 'issue', '-', 'incorrect', 'order', '@fooddeliveryapp', 'i’m', 'really', 'disappointed', 'with', 'my', 'recent', 'order.', 'i', 'specifically', 'ordered', 'a', 'vegetarian', 'meal,', 'but', 'what', 'i', 'received', 'was', 'a', 'meat', 'dish.', 'this', 'isn’t', 'just', 'a', 'simple', 'mistake;', 'it’s', 'a', 'serious', 'issue,', 'especially', 'for', 'those', 'of', 'us', 'with', 'dietary', 'restrictions.', 'i’ve', 'had', 'issues', 'with', 'incorrect', 'orders', 'from', 'your', 'app', 'in', 'the', 'past,', 'and', 'it’s', 'making', 'me', 'rethink', 'whether', 'i', 'should', 'continue', 'using', 'your', 'service.', 'what', 'can', 'be', 'done', 'to', 'resolve', 'this?', '@supporthelp', 'we’re', 'very', 'sorry', 'to', 'hear', 'about', 'the', 'incorrect', 'order', 'you', 'received.', 'we', 'take', 'dietary', 'restrictions', 'seriously,', 'and', 'we', 'understand', 'how', 'frustrating', 'this', 'must', 'be.', 'please', 'dm', 'us', 'your', 'order', 'number', 'and', 'any', 'other', 'details', 'you', 'have,', 'and', 'we’ll', 'make', 'sure', 'to', 'address', 'this', 'issue', 'with', 'the', 'restaurant.', 'we’ll', 'also', 'work', 'with', 'you', 'to', 'ensure', 'that', 'you', 'receive', 'the', 'correct', 'meal.', 'we’re', 'committed', 'to', 'resolving', 'this', 'as', 'quickly', 'as', 'possible.', '^rr', '@user2025', 'this', 'isn’t', 'the', 'first', 'time', 'this', 'has', 'happened,', 'and', 'it’s', 'making', 'me', 'lose', 'faith', 'in', 'your', 'app.', 'mistakes', 'like', 'this', 'shouldn’t', 'be', 'happening,', 'especially', 'when', 'dealing', 'with', 'food', 'and', 'dietary', 'restrictions.', 'you', 'need', 'to', 'have', 'better', 'quality', 'control.', '@supporthelp', 'we', 'understand', 'your', 'concerns,', 'and', 'we’re', 'taking', 'this', 'matter', 'very', 'seriously.', 'have', 'you', 'contacted', 'the', 'restaurant', 'directly', 'to', 'address', 'the', 'mistake?', 'we’ll', 'also', 'follow', 'up', 'with', 'them', 'to', 'ensure', 'this', 'doesn’t', 'happen', 'again.', 'please', 'dm', 'us', 'so', 'we', 'can', 'assist', 'further', 'and', 'make', 'things', 'right.', '@user2025', 'i', 'haven’t', 'contacted', 'the', 'restaurant', 'yet.', 'i’ll', 'dm', 'you', 'the', 'details', 'now.', 'please', 'make', 'sure', 'this', 'gets', 'resolved', 'quickly.'], ['data', '3:', 'online', 'shopping', '-', 'order', 'not', 'delivered', 'customer', 'inquiry', '@shophelp', 'it’s', 'been', 'over', 'two', 'weeks', 'since', 'i', 'placed', 'my', 'order,', 'and', 'i', 'haven’t', 'received', 'any', 'updates', 'on', 'the', 'shipping', 'status.', 'the', 'tracking', 'number', 'hasn’t', 'been', 'updated', 'either,', 'and', 'the', 'estimated', 'delivery', 'date', 'has', 'long', 'passed.', 'can', 'someone', 'look', 'into', 'this?', 'i', 'need', 'to', 'know', 'when', 'my', 'order', 'will', 'arrive.', 'support', 'response', '@customersupport', 'we', 'apologize', 'for', 'the', 'inconvenience.', 'please', 'dm', 'us', 'your', 'order', 'number', 'and', 'any', 'other', 'relevant', 'details,', 'and', 'we’ll', 'investigate', 'the', 'status', 'of', 'your', 'shipment.', 'we', 'understand', 'how', 'frustrating', 'this', 'delay', 'must', 'be,', 'and', 'we’ll', 'do', 'our', 'best', 'to', 'resolve', 'it', 'quickly.', '^rr', 'customer', 'follow-up', '@user123', 'i’ve', 'been', 'a', 'loyal', 'customer', 'for', 'years,', 'but', 'this', 'lack', 'of', 'communication', 'is', 'unacceptable.', 'i', 'just', 'want', 'to', 'know', 'where', 'my', 'package', 'is', 'and', 'when', 'i', 'can', 'expect', 'it', 'to', 'arrive.', 'please', 'provide', 'some', 'clarity.', 'support', 'response', '@customersupport', 'we’re', 'currently', 'experiencing', 'some', 'delays', 'with', 'shipments', 'due', 'to', 'unforeseen', 'circumstances.', 'we’ll', 'be', 'happy', 'to', 'provide', 'more', 'details', 'via', 'dm.', 'you', 'can', 'also', 'check', 'the', 'status', 'via', 'the', 'link:', 'https://t.co/shippingstatus.', 'thanks', 'for', 'your', 'patience.', 'customer', 'follow-up', '@user123', 'i', 'tried', 'the', 'link', 'you', 'provided,', 'but', 'it', 'just', 'takes', 'me', 'to', 'a', 'generic', 'page', 'with', 'no', 'useful', 'information.', 'can', 'you', 'give', 'me', 'an', 'actual', 'update', 'or', 'let', 'me', 'know', 'if', 'i', 'should', 'be', 'expecting', 'my', 'package', 'anytime', 'soon?'], ['data', '4:', 'banking', 'service', '-', 'account', 'access', 'issues', 'customer', 'inquiry', '@banksupport', 'i’ve', 'been', 'trying', 'to', 'log', 'into', 'my', 'online', 'banking', 'account', 'all', 'morning,', 'but', 'i', 'keep', 'getting', 'an', 'error', 'message', 'that', 'says', '“account', 'not', 'accessible', 'at', 'this', 'time.”', 'i’m', 'locked', 'out', 'of', 'my', 'account,', 'and', 'i', 'need', 'to', 'access', 'my', 'funds', 'urgently.', 'what’s', 'going', 'on?', 'support', 'response', '@customersupport', 'we’re', 'sorry', 'to', 'hear', 'about', 'the', 'trouble', 'you’re', 'having', 'with', 'your', 'account', 'access.', 'please', 'dm', 'us', 'your', 'account', 'number', 'and', 'contact', 'details,', 'and', 'we’ll', 'work', 'to', 'resolve', 'the', 'issue', 'as', 'quickly', 'as', 'possible.', 'your', 'security', 'and', 'satisfaction', 'are', 'our', 'top', 'priorities.', '^rr', 'customer', 'follow-up', '@user789', 'i’ve', 'been', 'using', 'this', 'service', 'for', 'years', 'and', 'have', 'never', 'experienced', 'such', 'an', 'issue.', 'i', 'need', 'access', 'to', 'my', 'account', 'urgently,', 'and', 'i’m', 'getting', 'no', 'help', 'from', 'the', 'support', 'channels.', 'this', 'is', 'unacceptable', 'for', 'a', 'financial', 'institution.', 'support', 'response', '@customersupport', 'we', 'understand', 'your', 'frustration.', 'we’ve', 'escalated', 'your', 'issue', 'to', 'our', 'technical', 'team,', 'and', 'they’re', 'investigating', 'it', 'as', 'a', 'priority.', 'please', 'bear', 'with', 'us,', 'and', 'we’ll', 'provide', 'an', 'update', 'soon.', 'you', 'can', 'also', 'try', 'accessing', 'your', 'account', 'via', 'our', 'mobile', 'app', 'in', 'the', 'meantime.', 'customer', 'follow-up', '@user789', 'i’ve', 'tried', 'the', 'mobile', 'app', 'and', 'it’s', 'giving', 'me', 'the', 'same', 'error.', 'i’m', 'losing', 'trust', 'in', 'your', 'service.', 'please', 'just', 'let', 'me', 'know', 'how', 'long', 'this', 'will', 'take', 'to', 'fix.'], ['data', '5:', 'streaming', 'service', '-', 'subscription', 'renewal', 'issues', 'customer', 'inquiry', '@streamingsupport', 'i’ve', 'been', 'trying', 'to', 'renew', 'my', 'subscription', 'for', 'the', 'past', 'few', 'days,', 'but', 'every', 'time', 'i', 'attempt', 'to', 'do', 'so,', 'i', 'get', 'an', 'error', 'message', 'saying,', '“payment', 'cannot', 'be', 'processed.”', 'my', 'card', 'details', 'are', 'correct,', 'and', 'i’ve', 'never', 'had', 'this', 'issue', 'before.', 'what’s', 'going', 'on?', 'support', 'response', '@supportteam', 'we’re', 'sorry', 'for', 'the', 'trouble', 'with', 'your', 'subscription', 'renewal.', 'please', 'dm', 'us', 'your', 'account', 'information,', 'and', 'we’ll', 'take', 'a', 'look', 'at', 'what’s', 'going', 'wrong.', 'we', 'want', 'to', 'get', 'you', 'back', 'to', 'enjoying', 'your', 'content', 'as', 'quickly', 'as', 'possible.', '^rr', 'customer', 'follow-up', '@user456', 'i’ve', 'been', 'a', 'subscriber', 'for', 'years,', 'but', 'this', 'issue', 'is', 'making', 'me', 'reconsider', 'my', 'subscription.', 'i’ve', 'tried', 'multiple', 'cards,', 'and', 'none', 'of', 'them', 'seem', 'to', 'work.', 'i', 'need', 'this', 'resolved', 'soon.', 'support', 'response', '@supportteam', 'we’ve', 'escalated', 'this', 'issue', 'to', 'our', 'billing', 'department,', 'and', 'they’re', 'looking', 'into', 'it.', 'please', 'check', 'back', 'in', 'a', 'few', 'hours,', 'and', 'we’ll', 'update', 'you', 'as', 'soon', 'as', 'we', 'have', 'more', 'information.', 'we', 'truly', 'value', 'your', 'loyalty', 'and', 'are', 'doing', 'our', 'best', 'to', 'resolve', 'this', 'quickly.', 'customer', 'follow-up', '@user456', 'i’m', 'still', 'having', 'the', 'same', 'issue', 'and', 'haven’t', 'heard', 'back', 'from', 'your', 'team.', 'how', 'long', 'is', 'this', 'going', 'to', 'take?', 'should', 'i', 'be', 'considering', 'alternative', 'services?'], ['data', '6:', 'utility', 'service', '-', 'power', 'outage', 'reporting', 'customer', 'inquiry', '@utilitysupport', 'we’ve', 'been', 'without', 'power', 'for', 'over', 'six', 'hours,', 'and', 'there’s', 'been', 'no', 'communication', 'about', 'the', 'cause', 'of', 'the', 'outage', 'or', 'an', 'estimated', 'time', 'for', 'when', 'it', 'will', 'be', 'fixed.', 'i’ve', 'checked', 'your', 'website', 'and', 'there', 'are', 'no', 'updates', 'there', 'either.', 'can', 'you', 'please', 'provide', 'some', 'information?', 'support', 'response', '@supportteam', 'we’re', 'sorry', 'to', 'hear', 'that', 'your', 'area', 'is', 'experiencing', 'an', 'outage.', 'please', 'dm', 'us', 'your', 'address', 'and', 'account', 'number', 'so', 'we', 'can', 'provide', 'more', 'specific', 'information.', 'we’ll', 'also', 'update', 'you', 'on', 'the', 'status', 'of', 'the', 'repair', 'efforts', 'as', 'soon', 'as', 'possible.', '^rr', 'customer', 'follow-up', '@user202', 'i’ve', 'been', 'paying', 'my', 'bills', 'on', 'time', 'for', 'years,', 'but', 'this', 'lack', 'of', 'communication', 'is', 'really', 'frustrating.', 'i', 'understand', 'outages', 'happen,', 'but', 'i', 'expect', 'better', 'from', 'a', 'service', 'i’ve', 'been', 'using', 'for', 'so', 'long.', 'support', 'response', '@supportteam', 'our', 'team', 'is', 'working', 'on', 'resolving', 'the', 'issue.', 'please', 'bear', 'with', 'us', 'as', 'we', 'gather', 'more', 'information', 'on', 'the', 'expected', 'restoration', 'time.', 'we’ll', 'keep', 'you', 'updated', 'via', 'dm.', 'in', 'the', 'meantime,', 'you', 'can', 'check', 'https://t.co/outageinfo', 'for', 'the', 'latest', 'updates.', 'customer', 'follow-up', '@user202', 'i’ve', 'already', 'checked', 'the', 'link,', 'but', 'it’s', 'just', 'a', 'generic', 'message', 'saying,', '“we’re', 'working', 'on', 'it.”', 'can', 'you', 'please', 'give', 'me', 'a', 'more', 'specific', 'update', 'or', 'timeline', 'for', 'when', 'the', 'power', 'will', 'be', 'back', 'on?']]\n",
            "[['phone'], ['software', 'version']]\n",
            "['shopping', 'experience', 'help.', 'unstable', 'not', 'please', 'try', 'devices,', 'meat', 'either.', 'with', 'institution.', 'i’ve', 'make', 'inquiry', 'better', '@fooddeliveryapp', 'things', 'where', 'account', 'though', 'stuck', 'useful', 'factory', 'tracking', 'error', 'rebooting', 'long', '5:', 'clear', 'board,', 'yet.', 'without', '0800-123-4567.', 'reset?', 'years', 'six', 'thought', 'minutes,', 'need', 'they’re', 'from', 'support', 'day.', 'normal', 'crucial', 'accessing', 'number,', 'completing', 'cause', 'stable', 'frustrating.', 'i’m', 'updates?', 'hope', 'meantime.', 'app.', 'keep', 'clarity.', 'received.', 'restaurant.', 'issue', 'else', 'help', 'quickly', 'solution', 'on?', 'urgently.', '45', 'check', 'department,', 'dietary', 'mistake?', 'having', 'bear', 'methods,', 'version,', 'out', '@passenger101', 'hours', 'upgrade.', 'reporting', '@airlinesupport', 'inconvenience', 'every', 'important', 'currently', 'back', 'i’ll', 'end', 'smoothly', 'could', 'day,', 'flight,', 'way', 'account,', 'cards,', 'restrictions.', 'specific', 'payment?', 'truly', 'it', 'long.', 'booking', 'cleared', 'diagnostics', 'different', 'line', 'value', 'ensure', 'apologize', 'trying', 'some', '@user2025', 'happening', 'team,', 'do?', 'find', 'too', 'serious', 'details,', 'resolved', 'it.”', 'overall', 'have,', 'status', 'fix', 'downgrade', 'phone.', 'browser’s', 'because', 'since', 'soon?', 'hasn’t', 'fine.', 'customer', 'cannot', 'tech', 'best', 'cart', 'via', 'process.', 'step', 'quality', 'take?', 'items', 'investigating', 'log', 'current', 'device', 'data.', '@techsupport', '@onlinestore', 'estimated', 'also', 'get', 'before', 'don’t', 'says', 'getting', 'hit,', 'like', 'online', 'countless', '“we’re', 'problems', 'this', 'we', 'priority.', 'business', 'expected', 'my', 'are', 'performance', 'unforeseen', 'service.', 'anytime', 'information,', 'continue', 'be', 'information?', 'had', 'reinstalling', 'app,', 'frustrates', 'there.', 'communication.', 'us,', 'dm.', 'received', 'generic', 'error.', 'arrangements.', 'call', 'meal.', 'escalated', 'this?', 'be,', 'issues,', 'hesitant', 'information.', 'now.', 'provide', 'efforts', 'day', 'someone', 'over', 'out.', 'form', 'watch', 'that,', 'busy.', 'done.', 'seriously', 'think', 'work,', 'contacted', 'escalate', 'that', 'apps', 'buffering', 'arrive.', '1.', 'way.', '@shophelp', '@user456', 'further.', 'improves.', 'understanding.', 'weeks,', 'shipping', 'ticket', 'chat,', 'through', 'assist', 'cards', 'messages', 'checked', 'giving', '@supportteam', '10', 'was', 'happy', 'app', 'right.', 'outage.', 'live', 'performance,', 'zero', 'experienced', 'hours,', 'patience.', 'am', 'unacceptable.', 'ruin', 'happens', 'frustrating', 'now', 'me', 'left', 'saying,', 'trouble', 'incorrect', 'delays,', 'battery', 'two', 'you', '-', 'taking', 'contact', 'starting', 'isn’t', 'you’ve', 'persists?', 'late?', 'smooth', 'happen,', 'never', 'cache,', 'host', 'information', '2.', 'service', 'security', 'we’ve', 'everything', 'accessible', 'utility', 'might', '@shopper2024', 'again.', 'actual', 'connection,', 'communication', 'rethink', 'router', 'done', 'give', 'access', 'purchase', 'frequently,', 'go', 'correct', 'attempt', 'going', 'payment', 'https://t.co/12345.', 'caused.', 'weeks', 'delivery', 'just', 'gateway.', 'minutes', 'date', 'timeline', 'working.', 'mobile', 'status.', 'has', 'alternative', 'half', 'details', 'billing', 'disappointed', 'is', 'want', 'troubleshooting.', 'really', 'charging,', 'when', '5.', 'a', 'problem', 'concerns,', 'one', 'such', 'especially', 'power', 'urgently,', 'update.', 'if', 'those', 'almost', 'either,', 'available.', 'faith', 'switching', 'funds', 'looking', 'we’ll', 'recent', 'updated.', 'connection', 'very', 'next', 'properly.', 'page', 'meal,', 'see', 'reference', 'model', 'times,', 'heard', 'between', 'waiting', 'complete', 'soon', 'expect', 'data', 'three', 'at', 'anything.', '@internetprovider', 'happen', '@customersupport', 'store', 'seriously.', 'ensuring', 'takes', 'times', 'package', 'technical', 'soon.', 'content', 'whether', 'channels.', 'already', 'patience', 'still', 'able', 'work', 'as', 'resolve', '6:', 'experience.', 'quickly.', 'our', 'team', 'take', 'latest', 'restoration', 'life', 'tell', 'software', '3:', 'response', 'making', 'locked', 'call,', 'financial', 'understand', 'follow', 'order,', 'initial', 'haven’t', 'connection.', '@supportcenter', 'gateway', 'know', 'means', 'satisfaction', 'gets', 'streaming', 'will', 'send', 'why', 'reconsider', '“account', 'afford', 'restrictions', 'gate', 'address', 'much', 'shows', 'dropping', 'updated', 'improve', '@frustrateduser123', 'same', 'problems.', 'seriously,', '@streamingsupport', 'performing', 'other', 'expecting', 'doing', 'reboot', 'makes', 'shipment.', 'appreciate', 'even', 'passed.', 'https://t.co/outageinfo', 'service,', 'renewal.', 'been', 'constantly', 'work.', '@supporthelp', 'frustration.', 'receive', 'circumstances.', 'another', 'them', 'working', 'no', 'alternatively,', 'so,', 'follow-up', 'before.', 'airline', 'specifically', 'on', 'away.', 'it’s', 'dm', 'have', 'run', 'outage', '4.', 'time.”', 'internet', 'steps', 'loyalty', 'delivered', 'your', 'worse.', 'few', 'committed', 'updates.', 'of,', 'investigation.', 'outages', 'we’d', 'issue?', 'possible.', 'message', 'works', 'regretting', 'reset', 'barely', 'sluggish.', 'while', 'us', 'look', 'matters', 'team.', 'issues', 'all', 'cache', 'updates', '@banksupport', 'issue.', 'relevant', 'days,', 'after', 'guide', 'processed.”', 'they', 'staff.', 'happening,', 'encountered,', 'can', 'meantime,', 'lot', 'thing', 'fixed.', 'until', 'constant', 'experiencing', 'to', 'modem,', 'subscriber', 'gather', 'further', 'interruptions.', 'taken', 'renew', 'seamless', 'lose', 'renewing', 'fix.', 'incredibly', 'version', 'first', 'considering', 'more', 'must', 'device,', 'of', 'method,', 'clearing', 'happened,', 'morning,', 'shipments', 'available', 'but', 'update', 'in', 'order.', 'dealing', 'router,', 'any', 'past,', 'seem', 'services?', 'seems', 'provided,', 'which', 'delay', 'question', 'interruptions', 'years,', 'these', 'mistakes', 'sorry', 'paying', 'resolving', 'we’re', 'there’s', 'correct,', 'complaint', 'home.', 'and', '@user123', 'wrong.', 'past', 'dish.', 'facing', 'buffering,', 'me.', 'number', 'using', 'top', 'simple', 'already.', '@user202', 'banks,', 'digital', '3.', 'how', '@user789', 'worried', 'additional', 'link,', 'orders', 'area', 'level', 'losing', 'chat', 'feels', 'food', 'repair', 'or', 'due', 'let', 'trust', 'issue,', 'persist.', 'unacceptable', 'phone', 'control.', 'delays', 'this.', 'multiple', 'rebooted', 'issues.', 'link', 'loyal', 'than', 'ordered', 'so', 'wit’s', 'vegetarian', 'the', 'here', 'should', 'message.', 'lack', 'do', 'you’re', 'i', 'sure', 'purchase.', 'resolved.', 'access.', 'for', 'is,', 'assistance,', 'about', 'inconvenience.', 'supposed', 'us.', 'https://t.co/shippingstatus.', 'on.', 'updating', 'directly', 'entire', 'priorities.', 'something,', 'card', 'it.', 'into', 'tried', 'keeps', 'buy', 'doesn’t', '“payment', 'placed', 'order', 'bills', 'were', 'what', 'restaurant', 'dark', 'enjoying', 'crashing', 'ongoing', 'worth', 'called', 'completely', 'sell', 'link:', 'mistake;', 'up', 'update?', 'subscription.', 'anything', 'experience,', 'what’s', 'being', '@user2023', 'flight', 'none', 'renewal', 'banking', 'website', 'subscription', 'significant', 'choices.', 'along', 'paypal', '@username2024', 'become', 'strong.', 'nothing', 'thanks', '4:', 'matter', 'can’t', 'an', 'right', 'put', 'impossible', 'you.', 'out,', 'used', 'location,', 'shouldn’t', 'solution.', 'there', 'time', 'be.', 'something', '^rr', '@utilitysupport', 'time.', 'hear', 'investigate', 'restarting']\n"
          ]
        }
      ]
    },
    {
      "cell_type": "markdown",
      "source": [
        "# **Term Frequency**"
      ],
      "metadata": {
        "id": "RmSPqUXzhRa_"
      }
    },
    {
      "cell_type": "code",
      "source": [
        "# Function to calculate term frequency (TF)\n",
        "def term_frequency(term, document):\n",
        "    return document.count(term) / len(document)"
      ],
      "metadata": {
        "id": "sxTFPpDxhWRg"
      },
      "execution_count": 46,
      "outputs": []
    },
    {
      "cell_type": "markdown",
      "source": [
        "# **Inverse Document Frequency**"
      ],
      "metadata": {
        "id": "1VQPYuDlhe9K"
      }
    },
    {
      "cell_type": "code",
      "source": [
        "# Function to calculate inverse document frequency (IDF)\n",
        "def inverse_document_frequency(term, all_documents):\n",
        "    num_docs_containing_term = sum(1 for doc in all_documents if term in doc)\n",
        "    return math.log(len(all_documents) / (1 + num_docs_containing_term))"
      ],
      "metadata": {
        "id": "fi2GAnd7h7uu"
      },
      "execution_count": 47,
      "outputs": []
    },
    {
      "cell_type": "markdown",
      "source": [
        "# **Compute**"
      ],
      "metadata": {
        "id": "KaLoKnhHiBaJ"
      }
    },
    {
      "cell_type": "code",
      "source": [
        "# Compute TF-IDF for a document\n",
        "def compute_tfidf(document, all_documents, vocab):\n",
        "    tfidf_vector = []\n",
        "    for term in vocab:\n",
        "        tf = term_frequency(term, document)\n",
        "        idf = inverse_document_frequency(term, all_documents)\n",
        "        tfidf_vector.append(tf * idf)\n",
        "    return np.array(tfidf_vector)"
      ],
      "metadata": {
        "id": "BP79QA2iiGfV"
      },
      "execution_count": 48,
      "outputs": []
    },
    {
      "cell_type": "markdown",
      "source": [
        "# **Cosine similarity between two vector**"
      ],
      "metadata": {
        "id": "1HV3nV-yiO-x"
      }
    },
    {
      "cell_type": "code",
      "source": [
        "# Compute cosine similarity between two vectors\n",
        "def cosine_similarity(vec1, vec2):\n",
        "    dot_product = np.dot(vec1, vec2)\n",
        "    norm_vec1 = np.linalg.norm(vec1)\n",
        "    norm_vec2 = np.linalg.norm(vec2)\n",
        "    return dot_product / (norm_vec1 * norm_vec2)"
      ],
      "metadata": {
        "id": "jlQqhhh7iXqV"
      },
      "execution_count": 49,
      "outputs": []
    },
    {
      "cell_type": "markdown",
      "source": [
        "# **Calculate TF-IDF vectors**"
      ],
      "metadata": {
        "id": "pwoUrXxUic2-"
      }
    },
    {
      "cell_type": "code",
      "source": [
        "# Calculate TF-IDF vectors for documents and queries\n",
        "doc_tfidf_vectors = [compute_tfidf(doc, tokenized_docs, vocab) for doc in tokenized_docs]\n",
        "query_tfidf_vectors = [compute_tfidf(query, tokenized_docs, vocab) for query in tokenized_queries]"
      ],
      "metadata": {
        "id": "dBMYYjlEij6g"
      },
      "execution_count": 50,
      "outputs": []
    },
    {
      "cell_type": "code",
      "source": [
        "# Open the file to write the results\n",
        "with open(\"Abin.txt\", \"w\") as result_file:\n",
        "    # Calculate cosine similarities and rank top 3 documents for each query\n",
        "    for i, query_vector in enumerate(query_tfidf_vectors):\n",
        "        similarities = [cosine_similarity(query_vector, doc_vector) for doc_vector in doc_tfidf_vectors]\n",
        "\n",
        "        # Rank documents by similarity score\n",
        "        ranked_docs = sorted(enumerate(similarities), key=lambda x: x[1], reverse=True)[:3]  # Top 3\n",
        "\n",
        "        # Prepare the result string\n",
        "        result_str = f\"\\nTop 3 results for query '{queries[i]}':\\n\"\n",
        "        for rank, (doc_index, score) in enumerate(ranked_docs, 1):\n",
        "            result_str += f\"Rank {rank}: Document {doc_index + 1} with score {score:.4f}\\n\"\n",
        "\n",
        "        # Print to console and write to file\n",
        "        print(result_str)\n",
        "        result_file.write(result_str)"
      ],
      "metadata": {
        "colab": {
          "base_uri": "https://localhost:8080/"
        },
        "id": "7gkIyQ0-inqR",
        "outputId": "fe242297-99cb-4467-d713-13a5b8883109"
      },
      "execution_count": 51,
      "outputs": [
        {
          "output_type": "stream",
          "name": "stdout",
          "text": [
            "\n",
            "Top 3 results for query 'Phone':\n",
            "Rank 1: Document 2 with score 0.2993\n",
            "Rank 2: Document 1 with score 0.0766\n",
            "Rank 3: Document 3 with score 0.0000\n",
            "\n",
            "\n",
            "Top 3 results for query 'software version':\n",
            "Rank 1: Document 2 with score 0.2263\n",
            "Rank 2: Document 3 with score 0.0697\n",
            "Rank 3: Document 1 with score 0.0000\n",
            "\n"
          ]
        }
      ]
    }
  ]
}